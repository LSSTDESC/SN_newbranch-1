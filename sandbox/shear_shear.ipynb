{
 "cells": [
  {
   "cell_type": "code",
   "execution_count": 59,
   "metadata": {
    "collapsed": true
   },
   "outputs": [],
   "source": [
    "import numpy as np"
   ]
  },
  {
   "cell_type": "code",
   "execution_count": 60,
   "metadata": {
    "collapsed": true
   },
   "outputs": [],
   "source": [
    "def append_composite_dictionary(composite_dict, models):\n",
    "    for model in models:\n",
    "        composite_dict.update(model.param_dict)"
   ]
  },
  {
   "cell_type": "code",
   "execution_count": 61,
   "metadata": {
    "collapsed": true
   },
   "outputs": [],
   "source": [
    "def update_component_dictionaries(composite_dict, models):\n",
    "    for model in models:\n",
    "        for key in model.param_dict.keys():\n",
    "            model.param_dict[key] = composite_dict[key]"
   ]
  },
  {
   "cell_type": "code",
   "execution_count": 62,
   "metadata": {
    "collapsed": true
   },
   "outputs": [],
   "source": [
    "class Intrinsicmodel(object):\n",
    "    def __init__(self, sample_name, **kwargs):\n",
    "        self.param_dict = {}\n",
    "        self.sample_name = sample_name\n",
    "        self.modelname = 'intrinsic_Allignement_model_'+self.sample_name\n",
    "        self.param_dict['A1_'+self.sample_name] = 0.5\n",
    "        self.param_dict['A2_'+self.sample_name] = 2.\n",
    "        \n",
    "    def intrinsic_bias_strength(self):\n",
    "        return self.param_dict['A1'+self.sample_name]+self.param_dict['A2'+self.sample_name]"
   ]
  },
  {
   "cell_type": "code",
   "execution_count": 63,
   "metadata": {
    "collapsed": true
   },
   "outputs": [],
   "source": [
    "class Multiplicative_bias_model(object):\n",
    "    def __init__(self, sample_name, **kwargs):\n",
    "        self.param_dict = {}\n",
    "        self.sample_name = sample_name\n",
    "        self.modelname = 'Multiplicative_bias_model_'+self.sample_name\n",
    "        self.param_dict['multiplicative_bias_'+self.sample_name] = 1.5\n",
    "        \n",
    "    def multiplicative_bias_strength(self):\n",
    "        return self.param_dict['multiplicative_bias_'+self.sample_name]"
   ]
  },
  {
   "cell_type": "code",
   "execution_count": 64,
   "metadata": {
    "collapsed": true
   },
   "outputs": [],
   "source": [
    "class source_galaxy(object):\n",
    "    def __init__(self, sample_name, **kwargs):\n",
    "        self.sample_name = sample_name\n",
    "        self.param_dict = {}\n",
    "        #self.param_dict['intrinsic_model_'+self.sample_name] = IA_model\n",
    "        #self.param_dict['A1_'+self.sample_name,'A2_'+self.sample_name] = A1, A2\n",
    "        #self.param_dict['multiplicative_bias_model_'+self.sample_name] = multiplicative_bias_model\n",
    "        #self.param_dict['multiplicative_bias_'+self.sample_name] = multiplicative_bias\n",
    "        self.param_dict['n_of_z_'+self.sample_name] = kwargs['n_of_z']\n",
    "        \n",
    "        try:\n",
    "            self.models = kwargs['models']\n",
    "        except KeyError:\n",
    "            self.models = []\n",
    "            \n",
    "        for model in self.models:\n",
    "            setattr(self, model.modelname, model)\n",
    "        append_composite_dictionary(self.param_dict, self.models)\n",
    "        \n",
    "    def intrinsic_alignments(self, *args):\n",
    "        for model in self.models:\n",
    "            for key in model.param_dict.keys():\n",
    "                model.param_dict[key] = self.param_dict[key]\n",
    "                \n",
    "        return self.param_dict['n_of_z_'+self.sample_name]*(self.param_dict['A1_'+self.sample_name]-self.param_dict['A2_'+self.sample_name])\n",
    "        \n",
    "    def multiplicative_bias(self, *args):\n",
    "        return self.intrinsic_alignments * self.param_dict['multiplicative_bias_'+self.sample_name]"
   ]
  },
  {
   "cell_type": "code",
   "execution_count": 106,
   "metadata": {},
   "outputs": [],
   "source": [
    "class ShearShearDataVector(object):\n",
    "    def __init__(self, source1, source2, **kwargs):\n",
    "        #additive_bias = kwargs['additive_bias']\n",
    "        #atmospheric_power_model = kwargs['atmospheric_power_model']\n",
    "        # not defined here probably: intrinsic_alignment = kwargs['intrinsic alignment']\n",
    "        \n",
    "        #self?\n",
    "        try:\n",
    "            self.models = kwargs['models']\n",
    "        except KeyError:\n",
    "            self.models = []\n",
    "\n",
    "        self.param_dict = {}\n",
    "        append_composite_dictionary(self.param_dict, self.models)\n",
    "        append_composite_dictionary(self.param_dict, [source1, source2])\n",
    "        self.source1 = source1\n",
    "        self.source2 = source2\n",
    "        self.source1.name = source1.sample_name\n",
    "        self.source2.name = source2.sample_name\n",
    "        \n",
    "        \n",
    "        update_component_dictionaries(self.param_dict, [self.source1,self.source2])\n",
    "    def C_ell_GG(self):\n",
    "        ## where is cosmology specified??\n",
    "        n_of_z_1 = self.source1.param_dict['n_of_z_'+self.source1.name]\n",
    "        n_of_z_2 = self.source2.param_dict['n_of_z_'+self.source2.name]\n",
    "        return n_of_z_1 + n_of_z_2 #some CCL call\n",
    "        \n",
    "    def C_ell_GI(self):\n",
    "        n_of_z_1 = self.source1.param_dict['n_of_z_'+self.source1.name]\n",
    "        n_of_z_2 = self.source2.param_dict['n_of_z_'+self.source2.name]\n",
    "        A_1_1 = self.source1.param_dict['A1_'+self.source1.name]\n",
    "        A_1_2 = self.source2.param_dict['A1_'+self.source2.name]\n",
    "        return A_1_1*n_of_z_1 + n_of_z_2 #some CCL call\n",
    "    \n",
    "    def C_ell_IG(self):\n",
    "        n_of_z_1 = self.source1.param_dict['n_of_z_'+self.source1.name]\n",
    "        n_of_z_2 = self.source2.param_dict['n_of_z_'+self.source2.name]\n",
    "        A_1_1 = self.source1.param_dict['A1_'+self.source1.name]\n",
    "        A_1_2 = self.source2.param_dict['A1_'+self.source2.name]\n",
    "        return n_of_z_1 + A_1_2*n_of_z_2 #some CCL call\n",
    "    \n",
    "    def C_ell_II(self):\n",
    "        n_of_z_1 = self.source1.param_dict['n_of_z_'+self.source1.name]\n",
    "        n_of_z_2 = self.source2.param_dict['n_of_z_'+self.source2.name]\n",
    "        A_1_1 = self.source1.param_dict['A1_'+self.source1.name]\n",
    "        A_1_2 = self.source2.param_dict['A1_'+self.source2.name]\n",
    "        return A_1_1*n_of_z_1 + A_1_2*n_of_z_2 #some CCL call"
   ]
  },
  {
   "cell_type": "code",
   "execution_count": 107,
   "metadata": {},
   "outputs": [],
   "source": [
    "intrinsic1 = Intrinsicmodel('first')\n",
    "multbias1 = Multiplicative_bias_model('first')\n",
    "first_galaxy = source_galaxy('first', models=[intrinsic1, multbias1], n_of_z = 0.2)\n",
    "\n",
    "intrinsic2 = Intrinsicmodel('second')\n",
    "multbias2 = Multiplicative_bias_model('second')\n",
    "second_galaxy = source_galaxy('second', models=[intrinsic2, multbias2], n_of_z = 0.3)"
   ]
  },
  {
   "cell_type": "code",
   "execution_count": 108,
   "metadata": {},
   "outputs": [
    {
     "data": {
      "text/plain": [
       "{'A1_first': 0.5,\n",
       " 'A2_first': 2.0,\n",
       " 'multiplicative_bias_first': 1.5,\n",
       " 'n_of_z_first': 0.2}"
      ]
     },
     "execution_count": 108,
     "metadata": {},
     "output_type": "execute_result"
    }
   ],
   "source": [
    "first_galaxy.param_dict"
   ]
  },
  {
   "cell_type": "code",
   "execution_count": 109,
   "metadata": {},
   "outputs": [
    {
     "data": {
      "text/plain": [
       "-0.30000000000000004"
      ]
     },
     "execution_count": 109,
     "metadata": {},
     "output_type": "execute_result"
    }
   ],
   "source": [
    "first_galaxy.intrinsic_alignments()"
   ]
  },
  {
   "cell_type": "code",
   "execution_count": 110,
   "metadata": {},
   "outputs": [
    {
     "data": {
      "text/plain": [
       "-0.44999999999999996"
      ]
     },
     "execution_count": 110,
     "metadata": {},
     "output_type": "execute_result"
    }
   ],
   "source": [
    "second_galaxy.intrinsic_alignments()"
   ]
  },
  {
   "cell_type": "code",
   "execution_count": 111,
   "metadata": {},
   "outputs": [],
   "source": [
    "ss = ShearShearDataVector(first_galaxy, second_galaxy)"
   ]
  },
  {
   "cell_type": "code",
   "execution_count": 112,
   "metadata": {},
   "outputs": [
    {
     "data": {
      "text/plain": [
       "0.5"
      ]
     },
     "execution_count": 112,
     "metadata": {},
     "output_type": "execute_result"
    }
   ],
   "source": [
    "ss.C_ell_GG()"
   ]
  },
  {
   "cell_type": "code",
   "execution_count": 113,
   "metadata": {},
   "outputs": [
    {
     "data": {
      "text/plain": [
       "{'A1_first': 0.5,\n",
       " 'A1_second': 0.5,\n",
       " 'A2_first': 2.0,\n",
       " 'A2_second': 2.0,\n",
       " 'multiplicative_bias_first': 1.5,\n",
       " 'multiplicative_bias_second': 1.5,\n",
       " 'n_of_z_first': 0.2,\n",
       " 'n_of_z_second': 0.3}"
      ]
     },
     "execution_count": 113,
     "metadata": {},
     "output_type": "execute_result"
    }
   ],
   "source": [
    "ss.param_dict"
   ]
  },
  {
   "cell_type": "code",
   "execution_count": 115,
   "metadata": {},
   "outputs": [
    {
     "data": {
      "text/plain": [
       "0.25"
      ]
     },
     "execution_count": 115,
     "metadata": {},
     "output_type": "execute_result"
    }
   ],
   "source": [
    "ss.C_ell_II()"
   ]
  },
  {
   "cell_type": "code",
   "execution_count": 116,
   "metadata": {},
   "outputs": [
    {
     "data": {
      "text/plain": [
       "0.35"
      ]
     },
     "execution_count": 116,
     "metadata": {},
     "output_type": "execute_result"
    }
   ],
   "source": [
    "ss.C_ell_IG()"
   ]
  },
  {
   "cell_type": "code",
   "execution_count": 117,
   "metadata": {},
   "outputs": [
    {
     "data": {
      "text/plain": [
       "0.4"
      ]
     },
     "execution_count": 117,
     "metadata": {},
     "output_type": "execute_result"
    }
   ],
   "source": [
    "ss.C_ell_GI()"
   ]
  },
  {
   "cell_type": "code",
   "execution_count": null,
   "metadata": {
    "collapsed": true
   },
   "outputs": [],
   "source": []
  }
 ],
 "metadata": {
  "kernelspec": {
   "display_name": "Python 3",
   "language": "python",
   "name": "python3"
  },
  "language_info": {
   "codemirror_mode": {
    "name": "ipython",
    "version": 3
   },
   "file_extension": ".py",
   "mimetype": "text/x-python",
   "name": "python",
   "nbconvert_exporter": "python",
   "pygments_lexer": "ipython3",
   "version": "3.6.3"
  }
 },
 "nbformat": 4,
 "nbformat_minor": 1
}
