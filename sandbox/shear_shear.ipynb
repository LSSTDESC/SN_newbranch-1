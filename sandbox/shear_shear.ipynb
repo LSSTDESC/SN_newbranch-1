{
 "cells": [
  {
   "cell_type": "code",
   "execution_count": null,
   "metadata": {
    "collapsed": true
   },
   "outputs": [],
   "source": [
    "class ShearShearDataVector(DataVector):\n",
    "    def __init__(self, *sources, *args, **kwargs):\n",
    "        additive_bias = kwargs['additive_bias']\n",
    "        atmospheric_power_model = kwargs['atmospheric_power_model']\n",
    "        # not defined here probably: intrinsic_alignment = kwargs['intrinsic alignment']\n",
    "        \n",
    "        #self?\n",
    "        systematics_model_list = []\n",
    "        systematics_model_list.append(additive_bias)\n",
    "        systematics_model_list.append(atmospheric_power_model)\n",
    "\n",
    "        self.source_gal1 = sources[0]\n",
    "        self.source_gal2 = sources[1]\n",
    "        \n",
    "        \n",
    "        def C_ell_GG(self):\n",
    "            ## where is cosmology specified??\n",
    "            n_of_z_1 = self.source_gal1.param_dict['n_of_z']\n",
    "            n_of_z_2 = self.source_gal2.param_dict['n_of_z']\n",
    "            return n_of_z_1 + n_of_z_2 #some CCL call\n",
    "        \n",
    "        def C_ell_GI(self):\n",
    "            n_of_z_1 = self.source_gal1.param_dict['n_of_z']\n",
    "            n_of_z_2 = self.source_gal2.param_dict['n_of_z']\n",
    "            A_1_1 = self.source_gal1.param_dict['A1']\n",
    "            A_1_2 = self.source_gal2.param_dict['A1']\n",
    "            return A_1_1*n_of_z_1 + n_of_z_2 #some CCL call\n",
    "        def C_ell_IG(self):\n",
    "            n_of_z_1 = self.source_gal1.param_dict['n_of_z']\n",
    "            n_of_z_2 = self.source_gal2.param_dict['n_of_z']\n",
    "            A_1_1 = self.source_gal1.param_dict['A1']\n",
    "            A_1_2 = self.source_gal2.param_dict['A1']\n",
    "            return n_of_z_1 + A_1_2*n_of_z_2 #some CCL call\n",
    "        def C_ell_II(self):\n",
    "            n_of_z_1 = self.source_gal1.param_dict['n_of_z']\n",
    "            n_of_z_2 = self.source_gal2.param_dict['n_of_z']\n",
    "            A_1_1 = self.source_gal1.param_dict['A1']\n",
    "            A_1_2 = self.source_gal2.param_dict['A1']\n",
    "            return A_1_1*n_of_z_1 + A_1_2*n_of_z_2 #some CCL call\n",
    "        \n",
    "        \n",
    "        for source in sources:\n",
    "            try:\n",
    "                for systematics_model in source.systematics_models:\n",
    "                    systematics_model_list.append(systematics_model.model_name)\n",
    "                    \n",
    "            except AttributeError:\n",
    "                pass\n",
    "\n",
    "        DataVector.__init__(self, systematics_models=systematics_model_list)"
   ]
  },
  {
   "cell_type": "code",
   "execution_count": null,
   "metadata": {
    "collapsed": true
   },
   "outputs": [],
   "source": [
    "class source_galaxy(object):\n",
    "    def __init__(self, *args, **kwargs):\n",
    "        self.param_dict = {}\n",
    "        self.param_dict['intrinsic_model'] = IA_model\n",
    "        self.param_dict['A1','A2'] = A1, A2\n",
    "        self.param_dict['multiplicative_bias_model'] = multiplicative_bias_model\n",
    "        self.param_dict['multiplicative_bias'] = multiplicative_bias\n",
    "        self.param_dict['n_of_z'] = n_of_z\n",
    "        self.sample_name = bin_name\n",
    "        \n",
    "        self.systematics_model_list = []\n",
    "        self.systematics_model_list.append(IA_model)\n",
    "        self.systematics_model_list.append(multiplicative_bias_model)\n",
    "        \n",
    "    def intrinsic_alignments(self, *args):\n",
    "        return self.param_dict['intrinsic_model','A1', 'A2']\n",
    "        \n",
    "    def multiplicative_bias(self, *args):\n",
    "        return self.param_dict['multiplicative_bias']"
   ]
  }
 ],
 "metadata": {
  "kernelspec": {
   "display_name": "Python [conda root]",
   "language": "python",
   "name": "conda-root-py"
  },
  "language_info": {
   "codemirror_mode": {
    "name": "ipython",
    "version": 3
   },
   "file_extension": ".py",
   "mimetype": "text/x-python",
   "name": "python",
   "nbconvert_exporter": "python",
   "pygments_lexer": "ipython3",
   "version": "3.5.2"
  }
 },
 "nbformat": 4,
 "nbformat_minor": 1
}
