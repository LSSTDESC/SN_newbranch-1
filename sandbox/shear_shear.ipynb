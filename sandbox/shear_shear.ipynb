{
 "cells": [
  {
   "cell_type": "code",
   "execution_count": 200,
   "metadata": {
    "collapsed": true
   },
   "outputs": [],
   "source": [
    "import numpy as np"
   ]
  },
  {
   "cell_type": "code",
   "execution_count": 201,
   "metadata": {
    "collapsed": true
   },
   "outputs": [],
   "source": [
    "def append_composite_dictionary(composite_dict, models):\n",
    "    for model in models:\n",
    "        composite_dict.update(model.param_dict)"
   ]
  },
  {
   "cell_type": "code",
   "execution_count": 202,
   "metadata": {
    "collapsed": true
   },
   "outputs": [],
   "source": [
    "def update_component_dictionaries(composite_dict, models):\n",
    "    for model in models:\n",
    "        for key in model.param_dict.keys():\n",
    "            model.param_dict[key] = composite_dict[key]"
   ]
  },
  {
   "cell_type": "code",
   "execution_count": 203,
   "metadata": {
    "collapsed": true
   },
   "outputs": [],
   "source": [
    "class Intrinsicmodel(object):\n",
    "    def __init__(self, sample_name, **kwargs):\n",
    "        self.param_dict = {}\n",
    "        self.sample_name = sample_name\n",
    "        self.modelname = 'intrinsic_Allignement_model_'+self.sample_name\n",
    "        self.param_dict['A1_'+self.sample_name] = 0.5\n",
    "        self.param_dict['A2_'+self.sample_name] = 2.\n",
    "        \n",
    "    def intrinsic_bias_strength(self, z):\n",
    "        IA = self.param_dict['A1_'+self.sample_name]*z+self.param_dict['A2_'+self.sample_name]\n",
    "        return IA"
   ]
  },
  {
   "cell_type": "code",
   "execution_count": 204,
   "metadata": {
    "collapsed": true
   },
   "outputs": [],
   "source": [
    "class Multiplicative_bias_model(object):\n",
    "    def __init__(self, sample_name, **kwargs):\n",
    "        self.param_dict = {}\n",
    "        self.sample_name = sample_name\n",
    "        self.modelname = 'multiplicative_bias_model_'+self.sample_name\n",
    "        self.param_dict['multiplicative_bias_'+self.sample_name] = 1.5\n",
    "        \n",
    "    def multiplicative_bias_strength(self):\n",
    "        return self.param_dict['multiplicative_bias_'+self.sample_name]"
   ]
  },
  {
   "cell_type": "code",
   "execution_count": 205,
   "metadata": {},
   "outputs": [],
   "source": [
    "class source_galaxy(object):\n",
    "    def __init__(self, sample_name, **kwargs):\n",
    "        self.sample_name = sample_name\n",
    "        self.param_dict = {}\n",
    "        #self.param_dict['intrinsic_model_'+self.sample_name] = IA_model\n",
    "        #self.param_dict['A1_'+self.sample_name,'A2_'+self.sample_name] = A1, A2\n",
    "        #self.param_dict['multiplicative_bias_model_'+self.sample_name] = multiplicative_bias_model\n",
    "        #self.param_dict['multiplicative_bias_'+self.sample_name] = multiplicative_bias\n",
    "        \n",
    "        self.param_dict['n_of_z_'+self.sample_name] = kwargs['n_of_z']\n",
    "        \n",
    "        try:\n",
    "            self.models = kwargs['models']\n",
    "        except KeyError:\n",
    "            self.models = []\n",
    "            \n",
    "        for model in self.models:\n",
    "            setattr(self, model.modelname, model)\n",
    "        append_composite_dictionary(self.param_dict, self.models)\n",
    "            \n",
    "    def multiplicative_bias(self):\n",
    "        update_component_dictionaries(self.param_dict, self.models)\n",
    "        \n",
    "        modelname = 'multiplicative_bias_model_'+self.sample_name\n",
    "        try:\n",
    "            multibias_model = getattr(self, modelname)\n",
    "            multibias_value = multibias_model.multiplicative_bias_strength()\n",
    "        except AttributeError:\n",
    "            multibias_value = 1.0\n",
    "            print('multiplicative_bias_strength attribute error')\n",
    "            \n",
    "        return multibias_value*self.param_dict['n_of_z_'+self.sample_name]\n",
    "        # return multibias_value: just to debbug and there was indeed a mistake\n",
    "    \n",
    "    def intrinsic_alignments(self):\n",
    "       # for model in self.models:  #Where does this actually need to go??\n",
    "       #     for key in model.param_dict.keys():\n",
    "       #         model.param_dict[key] = self.param_dict[key]\n",
    "\n",
    "        update_component_dictionaries(self.param_dict, self.models)\n",
    "        \n",
    "        modelname2 = 'multiplicative_bias_model_'+self.sample_name\n",
    "        try:\n",
    "            multibias_model = getattr(self, modelname2)\n",
    "            multibias_value = multibias_model.multiplicative_bias_strength()\n",
    "        except AttributeError:\n",
    "            multibias_value = 1.0\n",
    "            print('multiplicative_bias_strength attribute error')\n",
    "        \n",
    "        modelname = 'intrinsic_Allignement_model_'+self.sample_name\n",
    "        z = self.multiplicative_bias()\n",
    "        try:\n",
    "            IA_model = getattr(self, modelname)\n",
    "            IA_value = IA_model.intrinsic_bias_strength(z)\n",
    "        except AttributeError:\n",
    "            IA_value = 10.0              \n",
    "            print('intrinsic_bias_strength(z) attribute error')\n",
    "            \n",
    "        return IA_value"
   ]
  },
  {
   "cell_type": "code",
   "execution_count": 206,
   "metadata": {
    "collapsed": true
   },
   "outputs": [],
   "source": [
    "class ShearShearDataVector(object):\n",
    "    def __init__(self, source1, source2, **kwargs):\n",
    "        #additive_bias = kwargs['additive_bias']\n",
    "        #atmospheric_power_model = kwargs['atmospheric_power_model']\n",
    "        # not defined here probably: intrinsic_alignment = kwargs['intrinsic alignment']\n",
    "        \n",
    "        #self?\n",
    "        try:\n",
    "            self.models = kwargs['models']\n",
    "        except KeyError:\n",
    "            self.models = []\n",
    "\n",
    "        self.param_dict = {}\n",
    "        append_composite_dictionary(self.param_dict, self.models)\n",
    "        append_composite_dictionary(self.param_dict, [source1, source2])\n",
    "        self.source1 = source1\n",
    "        self.source2 = source2\n",
    "        #self.source1.name = source1.sample_name\n",
    "        #self.source2.name = source2.sample_name\n",
    "\n",
    "        \n",
    "        \n",
    "        \n",
    "    def C_ell_GG(self):\n",
    "        ## where is cosmology specified??\n",
    "        #update_component_dictionaries(self.param_dict, [self.source1,self.source2])\n",
    "        n_of_z_mbias1 = self.source1.multiplicative_bias()\n",
    "        n_of_z_mbias2 = self.source2.multiplicative_bias()\n",
    "        result = n_of_z_mbias1*n_of_z_mbias2\n",
    "        #return self.source1.multiplicative_bias()*self.source2.multiplicative_bias() #some CCL call\n",
    "        return result\n",
    "        \n",
    "    def C_ell_GI(self):\n",
    "        #update_component_dictionaries(self.param_dict, [self.source1,self.source2])\n",
    "        #return self.source1.intrinsic_alignments() + self.source2.multiplicative_bias()\n",
    "        \n",
    "        n_of_z_mbias1 = self.source1.multiplicative_bias()\n",
    "        n_of_z_mbias2 = self.source2.multiplicative_bias()\n",
    "        A_1_1 = self.source1.intrinsic_alignments()\n",
    "        return A_1_1*n_of_z_mbias1+n_of_z_mbias2\n",
    "        \n",
    "    #    n_of_z_1 = self.source1.param_dict['n_of_z_'+self.source1.name]\n",
    "    #    n_of_z_2 = self.source2.param_dict['n_of_z_'+self.source2.name]\n",
    "    #    A_1_1 = self.source1.param_dict['A1_'+self.source1.name]\n",
    "    #    A_1_2 = self.source2.param_dict['A1_'+self.source2.name]\n",
    "    #    return A_1_1*n_of_z_1 + n_of_z_2 #some CCL call\n",
    "    \n",
    "    def C_ell_IG(self):\n",
    "    #    update_component_dictionaries(self.param_dict, [self.source1,self.source2])\n",
    "    #    return self.source1.multiplicative_bias() + self.source2.intrinsic_alignments()\n",
    "    \n",
    "    #    n_of_z_1 = self.source1.param_dict['n_of_z_'+self.source1.name]\n",
    "    #    n_of_z_2 = self.source2.param_dict['n_of_z_'+self.source2.name]\n",
    "    #    A_1_1 = self.source1.param_dict['A1_'+self.source1.name]\n",
    "    #    A_1_2 = self.source2.param_dict['A1_'+self.source2.name]\n",
    "    #    return n_of_z_1 + A_1_2*n_of_z_2 #some CCL call\n",
    "    \n",
    "        n_of_z_mbias1 = self.source1.multiplicative_bias()\n",
    "        n_of_z_mbias2 = self.source2.multiplicative_bias()\n",
    "        A_1_2 = self.source2.intrinsic_alignments()\n",
    "        return n_of_z_mbias1+A_1_2*n_of_z_mbias2\n",
    "    \n",
    "    def C_ell_II(self):\n",
    "    #    update_component_dictionaries(self.param_dict, [self.source1,self.source2])\n",
    "    #    return self.source1.intrinsic_alignments()*self.source2.intrinsic_alignments()\n",
    "    \n",
    "    #    n_of_z_1 = self.source1.param_dict['n_of_z_'+self.source1.name]\n",
    "    #    n_of_z_2 = self.source2.param_dict['n_of_z_'+self.source2.name]\n",
    "    #    A_1_1 = self.source1.param_dict['A1_'+self.source1.name]\n",
    "    #    A_1_2 = self.source2.param_dict['A1_'+self.source2.name]\n",
    "    #    return A_1_1*n_of_z_1 + A_1_2*n_of_z_2 #some CCL call\n",
    "        n_of_z_mbias1 = self.source1.multiplicative_bias()\n",
    "        n_of_z_mbias2 = self.source2.multiplicative_bias()\n",
    "        A_1_1 = self.source1.intrinsic_alignments()\n",
    "        A_1_2 = self.source2.intrinsic_alignments()\n",
    "        return A_1_1*n_of_z_mbias1+A_1_2*n_of_z_mbias2\n",
    "        "
   ]
  },
  {
   "cell_type": "code",
   "execution_count": 207,
   "metadata": {
    "collapsed": true
   },
   "outputs": [],
   "source": [
    "intrinsic1 = Intrinsicmodel('first')\n",
    "multbias1 = Multiplicative_bias_model('first')\n",
    "first_galaxy = source_galaxy('first', models=[intrinsic1, multbias1], n_of_z = 0.2)\n",
    "\n",
    "intrinsic2 = Intrinsicmodel('second')\n",
    "multbias2 = Multiplicative_bias_model('second')\n",
    "second_galaxy = source_galaxy('second', models=[intrinsic2, multbias2], n_of_z = 0.3)"
   ]
  },
  {
   "cell_type": "code",
   "execution_count": 208,
   "metadata": {},
   "outputs": [
    {
     "data": {
      "text/plain": [
       "{'A1_first': 0.5,\n",
       " 'A2_first': 2.0,\n",
       " 'multiplicative_bias_first': 1.5,\n",
       " 'n_of_z_first': 0.2}"
      ]
     },
     "execution_count": 208,
     "metadata": {},
     "output_type": "execute_result"
    }
   ],
   "source": [
    "first_galaxy.param_dict"
   ]
  },
  {
   "cell_type": "code",
   "execution_count": 209,
   "metadata": {},
   "outputs": [
    {
     "data": {
      "text/plain": [
       "{'A1_second': 0.5,\n",
       " 'A2_second': 2.0,\n",
       " 'multiplicative_bias_second': 1.5,\n",
       " 'n_of_z_second': 0.3}"
      ]
     },
     "execution_count": 209,
     "metadata": {},
     "output_type": "execute_result"
    }
   ],
   "source": [
    "second_galaxy.param_dict"
   ]
  },
  {
   "cell_type": "code",
   "execution_count": 210,
   "metadata": {},
   "outputs": [
    {
     "data": {
      "text/plain": [
       "2.15"
      ]
     },
     "execution_count": 210,
     "metadata": {},
     "output_type": "execute_result"
    }
   ],
   "source": [
    "first_galaxy.intrinsic_alignments()\n"
   ]
  },
  {
   "cell_type": "code",
   "execution_count": 211,
   "metadata": {},
   "outputs": [
    {
     "data": {
      "text/plain": [
       "[<__main__.Intrinsicmodel at 0x787de48>,\n",
       " <__main__.Multiplicative_bias_model at 0x787de10>]"
      ]
     },
     "execution_count": 211,
     "metadata": {},
     "output_type": "execute_result"
    }
   ],
   "source": [
    "first_galaxy.models"
   ]
  },
  {
   "cell_type": "code",
   "execution_count": 197,
   "metadata": {},
   "outputs": [
    {
     "data": {
      "text/plain": [
       "0.30000000000000004"
      ]
     },
     "execution_count": 197,
     "metadata": {},
     "output_type": "execute_result"
    }
   ],
   "source": [
    "first_galaxy.multiplicative_bias() "
   ]
  },
  {
   "cell_type": "code",
   "execution_count": 212,
   "metadata": {},
   "outputs": [
    {
     "data": {
      "text/plain": [
       "0.44999999999999996"
      ]
     },
     "execution_count": 212,
     "metadata": {},
     "output_type": "execute_result"
    }
   ],
   "source": [
    "second_galaxy.multiplicative_bias() "
   ]
  },
  {
   "cell_type": "code",
   "execution_count": 213,
   "metadata": {},
   "outputs": [
    {
     "data": {
      "text/plain": [
       "2.225"
      ]
     },
     "execution_count": 213,
     "metadata": {},
     "output_type": "execute_result"
    }
   ],
   "source": [
    "second_galaxy.intrinsic_alignments()"
   ]
  },
  {
   "cell_type": "code",
   "execution_count": 214,
   "metadata": {
    "collapsed": true
   },
   "outputs": [],
   "source": [
    "ss = ShearShearDataVector(first_galaxy, second_galaxy)"
   ]
  },
  {
   "cell_type": "code",
   "execution_count": 215,
   "metadata": {},
   "outputs": [
    {
     "data": {
      "text/plain": [
       "0.135"
      ]
     },
     "execution_count": 215,
     "metadata": {},
     "output_type": "execute_result"
    }
   ],
   "source": [
    "ss.C_ell_GG()"
   ]
  },
  {
   "cell_type": "code",
   "execution_count": 216,
   "metadata": {},
   "outputs": [
    {
     "data": {
      "text/plain": [
       "{'A1_first': 0.5,\n",
       " 'A1_second': 0.5,\n",
       " 'A2_first': 2.0,\n",
       " 'A2_second': 2.0,\n",
       " 'multiplicative_bias_first': 1.5,\n",
       " 'multiplicative_bias_second': 1.5,\n",
       " 'n_of_z_first': 0.2,\n",
       " 'n_of_z_second': 0.3}"
      ]
     },
     "execution_count": 216,
     "metadata": {},
     "output_type": "execute_result"
    }
   ],
   "source": [
    "ss.param_dict"
   ]
  },
  {
   "cell_type": "code",
   "execution_count": 217,
   "metadata": {},
   "outputs": [
    {
     "data": {
      "text/plain": [
       "1.64625"
      ]
     },
     "execution_count": 217,
     "metadata": {},
     "output_type": "execute_result"
    }
   ],
   "source": [
    "ss.C_ell_II()"
   ]
  },
  {
   "cell_type": "code",
   "execution_count": 218,
   "metadata": {},
   "outputs": [
    {
     "data": {
      "text/plain": [
       "1.30125"
      ]
     },
     "execution_count": 218,
     "metadata": {},
     "output_type": "execute_result"
    }
   ],
   "source": [
    "ss.C_ell_IG()"
   ]
  },
  {
   "cell_type": "code",
   "execution_count": 219,
   "metadata": {},
   "outputs": [
    {
     "data": {
      "text/plain": [
       "1.095"
      ]
     },
     "execution_count": 219,
     "metadata": {},
     "output_type": "execute_result"
    }
   ],
   "source": [
    "ss.C_ell_GI()"
   ]
  }
 ],
 "metadata": {
  "kernelspec": {
   "display_name": "Python 3",
   "language": "python",
   "name": "python3"
  },
  "language_info": {
   "codemirror_mode": {
    "name": "ipython",
    "version": 3
   },
   "file_extension": ".py",
   "mimetype": "text/x-python",
   "name": "python",
   "nbconvert_exporter": "python",
   "pygments_lexer": "ipython3",
   "version": "3.6.4"
  }
 },
 "nbformat": 4,
 "nbformat_minor": 1
}
