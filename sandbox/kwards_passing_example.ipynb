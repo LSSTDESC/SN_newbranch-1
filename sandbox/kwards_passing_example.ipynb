{
 "cells": [
  {
   "cell_type": "code",
   "execution_count": 2,
   "metadata": {},
   "outputs": [],
   "source": [
    "class SourceSample(object):\n",
    "    def __init__(self, *args, **kwargs):\n",
    "        self.sample_name = kwargs['sample_name']\n",
    "\n",
    "class WLSourceSample(SourceSample):\n",
    "    def __init__(self, *args, **kwargs):\n",
    "        SourceSample.__init__(self, **kwargs)\n",
    "        self.redshift_distribution = kwargs['redshift_distribution']\n",
    "        self.systematics_model_list = []\n",
    "        try:\n",
    "            for systematics_model in kwargs['systematics_models']:\n",
    "                self.systematics_model_list.append(systematics_model.model_name)\n",
    "        except KeyError:\n",
    "            pass\n"
   ]
  },
  {
   "cell_type": "code",
   "execution_count": 13,
   "metadata": {},
   "outputs": [],
   "source": [
    "class DataVector(object):\n",
    "    pass\n",
    "\n",
    "class ShearDataVector(DataVector):\n",
    "    def __init__(self, *args, **kwargs):\n",
    "        self.source_sample1 = kwargs['source_sample1']\n",
    "        self.source_sample2 = kwargs['source_sample2']\n",
    "        self.source3 = kwargs['source3']\n",
    "    \n",
    "    def my_behavior_requiring_systematics_interactions(self, **kwargs):\n",
    "        requested_kwargs = {}\n",
    "        for request_name, request_value in self.sys_model.behavior1.requested_kwargs.items():\n",
    "            requested_kwargs[request_name] = getattr(self, request_value)\n",
    "        x = self.sys_model.behavior(**requested_kwargs)\n",
    "\n",
    "    def my_other_behavior_requiring_systematics_interactions(self, **kwargs):\n",
    "        requested_kwargs = {}\n",
    "        for request_name, request_value in self.sys_model.behavior2.requested_kwargs.items():\n",
    "            requested_kwargs[request_name] = getattr(self, request_value)\n",
    "        x = self.sys_model.behavior(**requested_kwargs)\n",
    "\n",
    "        \n",
    "class SomeSystematic(object):\n",
    "    def __init__(self, *args, **kwargs):\n",
    "        \n",
    "        things_I_need = {}\n",
    "        things_I_need['wl_source1'] = 'source_sample1'\n",
    "        things_I_need['wl_source2'] = 'source_sample2'\n",
    "        self.behavior.requested_kwargs = things_I_need\n",
    "\n",
    "        other_things_I_need = {}\n",
    "        other_things_I_need['wl_source'] = 'source_sample1'\n",
    "        other_things_I_need['clustering_source'] = 'source_sample2'\n",
    "        self.behavior2.requested_kwargs = other_things_I_need\n",
    "\n",
    "    def behavior(self, **kwargs):\n",
    "        wl_source1 = kwargs['wl_source1'] \n",
    "        wl_source2 = kwargs['wl_source2']\n",
    "\n",
    "    def behavior2(self, **kwargs):\n",
    "        wl_source = kwargs['wl_source'] \n",
    "        clustering_source = kwargs['source3']\n"
   ]
  },
  {
   "cell_type": "code",
   "execution_count": null,
   "metadata": {},
   "outputs": [],
   "source": []
  }
 ],
 "metadata": {
  "kernelspec": {
   "display_name": "Python 2",
   "language": "python",
   "name": "python2"
  },
  "language_info": {
   "codemirror_mode": {
    "name": "ipython",
    "version": 2
   },
   "file_extension": ".py",
   "mimetype": "text/x-python",
   "name": "python",
   "nbconvert_exporter": "python",
   "pygments_lexer": "ipython2",
   "version": "2.7.13"
  }
 },
 "nbformat": 4,
 "nbformat_minor": 2
}
