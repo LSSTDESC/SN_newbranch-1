{
 "cells": [
  {
   "cell_type": "code",
   "execution_count": 6,
   "metadata": {},
   "outputs": [],
   "source": [
    "class DataVector(object):\n",
    "    def __init__(self, *models):\n",
    "        self.models = []\n",
    "        for model in models:\n",
    "            if hasattr(model, 'name'):\n",
    "                self.models.append(model.name)\n",
    "\n",
    "        self.systematics_model_list = []\n",
    "        try:\n",
    "            for systematics_model in kwargs['systematics_models']:\n",
    "                self.systematics_model_list.append(systematics_model.model_name)\n",
    "        except KeyError:\n",
    "            pass\n",
    "\n",
    "        for model in self.models:\n",
    "            try:\n",
    "                for systematics_model in model.systematics_models:\n",
    "                    self.systematics_model_list.append(systematics_model.model_name)\n",
    "            except AttributeError:\n",
    "                pass\n"
   ]
  },
  {
   "cell_type": "code",
   "execution_count": null,
   "metadata": {},
   "outputs": [],
   "source": [
    "class ShearShearDataVector(DataVector):\n",
    "    def __init__(self, *args, **kwargs):\n",
    "        additive_bias = kwargs['additive_bias']\n",
    "        atmospheric_power_model = kwargs['atmospheric_power_model']\n",
    "        \n",
    "        systematics_model_list = []\n",
    "        systematics_model_list.append(additive_bias)\n",
    "        systematics_model_list.append(atmospheric_power_model)\n",
    "\n",
    "        self.systematics_mod\n",
    "        self.source_galaxies = kwargs['source_galaxies']\n",
    "        \n",
    "        for model in kwargs['models']:\n",
    "            try:\n",
    "                for systematics_model in model.systematics_models:\n",
    "                    systematics_model_list.append(systematics_model.model_name)\n",
    "                    \n",
    "            except AttributeError:\n",
    "                pass\n",
    "\n",
    "        DataVector.__init__(self, systematics_models=systematics_model_list)\n",
    "        "
   ]
  },
  {
   "cell_type": "code",
   "execution_count": 7,
   "metadata": {},
   "outputs": [],
   "source": [
    "class Model(object):\n",
    "    def __init__(self, **kwargs):\n",
    "        try:\n",
    "            self.name = kwargs['name']\n",
    "        except KeyError:\n",
    "            pass"
   ]
  },
  {
   "cell_type": "code",
   "execution_count": 8,
   "metadata": {},
   "outputs": [],
   "source": [
    "model1 = Model(name='name1')\n",
    "model2 = Model(name='name2')\n",
    "model3 = Model()"
   ]
  },
  {
   "cell_type": "code",
   "execution_count": 9,
   "metadata": {},
   "outputs": [],
   "source": [
    "data_vector1 = DataVector(model1, model2, model3)"
   ]
  },
  {
   "cell_type": "code",
   "execution_count": 10,
   "metadata": {},
   "outputs": [
    {
     "data": {
      "text/plain": [
       "['name1', 'name2']"
      ]
     },
     "execution_count": 10,
     "metadata": {},
     "output_type": "execute_result"
    }
   ],
   "source": [
    "data_vector1.modelnames"
   ]
  },
  {
   "cell_type": "code",
   "execution_count": 11,
   "metadata": {},
   "outputs": [],
   "source": [
    "class GalaxyClustering(DataVector):\n",
    "    def __init__(self, sample1_name, sample2_name, *args, **kwargs):\n",
    "        DataVector.__init__(self, *args, **kwargs)\n",
    "        \n",
    "        self.sample1_name = sample1_name\n",
    "        self.sample2_name = sample2_name\n",
    "        \n",
    "        "
   ]
  },
  {
   "cell_type": "code",
   "execution_count": null,
   "metadata": {},
   "outputs": [],
   "source": [
    "class GalaxySample(object):\n",
    "    def __init__(self, *args, **kwargs):\n",
    "        self.redshift_distribution = kwargs['redshift_distribution']\n",
    "        self.sample_name = kwargs['sample_name']\n",
    "        \n",
    "        try:\n",
    "            self.photoz_model = kwargs['photoz_model']\n",
    "        except KeyError:\n",
    "            pass\n",
    "\n",
    "class SourceGalaxySample(GalaxySample):\n",
    "    def __init__(self, *args, **kwargs)\n",
    "        GalaxySample.__init__(self, **kwargs)\n",
    "        self.systematics_model_list = []\n",
    "        try:\n",
    "            for systematics_model in kwargs['systematics_models']:\n",
    "                self.systematics_model_list.append(systematics_model.model_name)\n",
    "        except KeyError:\n",
    "            pass\n",
    "#         self.ia_model = kwargs['ia_model']\n",
    "\n",
    "class ClusteringGalaxySample(GalaxySample):\n",
    "    def __init__(self, *args, **kwargs)\n",
    "        GalaxySample.__init__(self, **kwargs)\n",
    "        self.bias_model = kwargs['bias_model']\n",
    "        \n",
    "    def compute_bias(self, *args, **kwargs):\n",
    "        return self.bias_model.compute_bias(*args, **kwargs)\n",
    "    \n",
    "    def compute_data_vector(self):\n",
    "        self.ia_model.param_dict.update(self.param_dict)\n"
   ]
  },
  {
   "cell_type": "code",
   "execution_count": null,
   "metadata": {},
   "outputs": [],
   "source": []
  },
  {
   "cell_type": "code",
   "execution_count": 12,
   "metadata": {},
   "outputs": [],
   "source": [
    "param_dict = dict(a=8, b=9)"
   ]
  },
  {
   "cell_type": "code",
   "execution_count": 13,
   "metadata": {},
   "outputs": [],
   "source": [
    "param_dict2 = dict(c=11)"
   ]
  },
  {
   "cell_type": "code",
   "execution_count": 14,
   "metadata": {},
   "outputs": [],
   "source": [
    "param_dict.update(param_dict2)"
   ]
  },
  {
   "cell_type": "code",
   "execution_count": 15,
   "metadata": {},
   "outputs": [
    {
     "data": {
      "text/plain": [
       "{'a': 8, 'b': 9, 'c': 11}"
      ]
     },
     "execution_count": 15,
     "metadata": {},
     "output_type": "execute_result"
    }
   ],
   "source": [
    "param_dict"
   ]
  },
  {
   "cell_type": "markdown",
   "metadata": {},
   "source": [
    "Elisabeth's attempts for cluster data vector below"
   ]
  },
  {
   "cell_type": "code",
   "execution_count": 1,
   "metadata": {},
   "outputs": [],
   "source": [
    "class ClusterSample(object):\n",
    "    def __init__(self, *args, **kwargs):\n",
    "        self.redshift_distribution = kwargs['redshift_distribution']\n",
    "        self.sample_name = kwargs['sample_name']\n",
    "        # mobs_model is required, other systematics may be optional\n",
    "        # not sure if this is the right way to enforce this\n",
    "        try:\n",
    "            self.mobs_model = kwargs['mobs_model']\n",
    "        except KeyError:\n",
    "            pass\n",
    "        \n",
    "        self.systematics_model_list = []\n",
    "        try:\n",
    "            for systematics_model in kwargs['systematics_models']:\n",
    "                self.systematics_model_list.append(systematics_model.model_name)\n",
    "        except KeyError:\n",
    "            pass"
   ]
  },
  {
   "cell_type": "code",
   "execution_count": null,
   "metadata": {},
   "outputs": [],
   "source": [
    "class ClusterLensingDataVector(DataVector):\n",
    "    def __init__(self, clustersample_name, sourcesample_name,*args, **kwargs):\n",
    "        additive_bias = kwargs['additive_bias']\n",
    "        atmospheric_power_model = kwargs['atmospheric_power_model']\n",
    "        \n",
    "        systematics_model_list = []\n",
    "        systematics_model_list.append(additive_bias)\n",
    "        systematics_model_list.append(atmospheric_power_model)\n",
    "\n",
    "        self.systematics_mod\n",
    "        self.source_galaxies = kwargs['source_galaxies']\n",
    "        \n",
    "        for model in kwargs['models']:\n",
    "            try:\n",
    "                for systematics_model in model.systematics_models:\n",
    "                    systematics_model_list.append(systematics_model.model_name)\n",
    "                    \n",
    "            except AttributeError:\n",
    "                pass\n",
    "\n",
    "        DataVector.__init__(self, systematics_models=systematics_model_list)\n"
   ]
  }
 ],
 "metadata": {
  "kernelspec": {
   "display_name": "Python 2",
   "language": "python",
   "name": "python2"
  },
  "language_info": {
   "codemirror_mode": {
    "name": "ipython",
    "version": 2
   },
   "file_extension": ".py",
   "mimetype": "text/x-python",
   "name": "python",
   "nbconvert_exporter": "python",
   "pygments_lexer": "ipython2",
   "version": "2.7.13"
  }
 },
 "nbformat": 4,
 "nbformat_minor": 2
}
