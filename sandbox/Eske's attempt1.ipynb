{
 "cells": [
  {
   "cell_type": "code",
   "execution_count": 1,
   "metadata": {
    "collapsed": true
   },
   "outputs": [],
   "source": [
    "def append_composite_dictionary(composite_dict, models):\n",
    "    for model in models:\n",
    "        composite_dict.update(model.param_dict)"
   ]
  },
  {
   "cell_type": "code",
   "execution_count": 2,
   "metadata": {
    "collapsed": true
   },
   "outputs": [],
   "source": [
    "def update_component_dictionaries(composite_dict, models):\n",
    "    for model in models:\n",
    "        for key in model.param_dict.keys():\n",
    "            model.param_dict[key] = composite_dict[key]"
   ]
  },
  {
   "cell_type": "code",
   "execution_count": null,
   "metadata": {
    "collapsed": true
   },
   "outputs": [],
   "source": [
    "class sourcesample(object):\n",
    "    def __init__(self, **kvargs):\n",
    "        self.sample_name = kwargs['sample_name']\n",
    "        self.param_dict = {}\n",
    "            pass\n",
    "        \n",
    "        "
   ]
  },
  {
   "cell_type": "code",
   "execution_count": null,
   "metadata": {
    "collapsed": true
   },
   "outputs": [],
   "source": [
    "class statistic2pt(object):\n",
    "    def __init__(self, systematics_models, source1, source2, **kwargs):\n",
    "        self.param_dict{}\n",
    "        self.param_dict.update(source1.param_dict)\n",
    "        self.param_dict.update(source2.param_dict)\n",
    "        \n",
    "    def request_systematics_behaviour(self, **kwargs)\n",
    "        requested_kwargs = {}\n",
    "        for request_name, request_value in self.systematic_model.behavior.request_kwargs.item():\n",
    "            requested_kwargs[request_name] = getattr(self, request_value)\n",
    "        x = self.sys_model.behavior(**request_kwargs)\n",
    "            pass\n",
    "        \n",
    "    "
   ]
  },
  {
   "cell_type": "code",
   "execution_count": null,
   "metadata": {
    "collapsed": true
   },
   "outputs": [],
   "source": [
    "class systematic_model(object):\n",
    "    def __init__(self, *args, **kwargs):\n",
    "        self.param_dict = {}\n",
    "        things_I_need = {}\n",
    "        \n",
    "        self.behavior.request_kwargs = thing_I_need\n",
    "            pass"
   ]
  }
 ],
 "metadata": {
  "kernelspec": {
   "display_name": "Python 3",
   "language": "python",
   "name": "python3"
  },
  "language_info": {
   "codemirror_mode": {
    "name": "ipython",
    "version": 3
   },
   "file_extension": ".py",
   "mimetype": "text/x-python",
   "name": "python",
   "nbconvert_exporter": "python",
   "pygments_lexer": "ipython3",
   "version": "3.6.3"
  }
 },
 "nbformat": 4,
 "nbformat_minor": 2
}
