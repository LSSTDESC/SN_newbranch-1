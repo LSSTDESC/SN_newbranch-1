{
 "cells": [
  {
   "cell_type": "code",
   "execution_count": 1,
   "metadata": {},
   "outputs": [],
   "source": [
    "def append_composite_dictionary(composite_dict, models):\n",
    "    for model in models:\n",
    "        composite_dict.update(model.param_dict)"
   ]
  },
  {
   "cell_type": "code",
   "execution_count": 2,
   "metadata": {},
   "outputs": [],
   "source": [
    "def update_component_dictionaries(composite_dict, models):\n",
    "    for model in models:\n",
    "        for key in model.param_dict.keys():\n",
    "            model.param_dict[key] = composite_dict[key]"
   ]
  },
  {
   "cell_type": "code",
   "execution_count": 3,
   "metadata": {},
   "outputs": [],
   "source": [
    "class AssemblyBias(object):\n",
    "    def __init__(self, sample_name):\n",
    "        self.param_dict = {}\n",
    "        self.sample_name = sample_name\n",
    "        self.modelname = 'assembly_bias_model_'+self.sample_name\n",
    "        self.param_dict['assembly_bias_param0_'+self.sample_name] = 1.\n",
    "\n",
    "    def assembly_bias_strength(self):\n",
    "        return self.param_dict['assembly_bias_param0_'+self.sample_name]"
   ]
  },
  {
   "cell_type": "code",
   "execution_count": 14,
   "metadata": {},
   "outputs": [],
   "source": [
    "class Galaxies(object):\n",
    "    def __init__(self, sample_name, **kwargs):\n",
    "        \n",
    "        self.sample_name = sample_name\n",
    "        self.param_dict = {}\n",
    "        self.param_dict['nz_param0_'+self.sample_name] = 0.1\n",
    "        self.param_dict['nz_param1_'+self.sample_name] = 0.2\n",
    "        self.param_dict['large_scale_bias_'+self.sample_name] = 1.5\n",
    "\n",
    "        try:\n",
    "            self.models = kwargs['models']\n",
    "        except KeyError:\n",
    "            self.models = []\n",
    "            \n",
    "        for model in self.models:\n",
    "            setattr(self, model.modelname, model)\n",
    "        append_composite_dictionary(self.param_dict, self.models)\n",
    "    \n",
    "    def true_redshift_pdf(self, z):\n",
    "        for model in self.models:\n",
    "            #  Propagate parameters from composite model down to component model\n",
    "            for key in model.param_dict.keys():\n",
    "                model.param_dict[key] = self.param_dict[key]\n",
    "                \n",
    "        return self.param_dict['nz_param0'] + self.param_dict['nz_param0'] + z\n",
    "    \n",
    "    def large_scale_bias(self):\n",
    "        update_component_dictionaries(self.param_dict, self.models)\n",
    "        \n",
    "        modelname = 'assembly_bias_model_' + self.sample_name\n",
    "        try:\n",
    "            assembias_model = getattr(self, modelname)\n",
    "            assembias_value = assembias_model.assembly_bias_strength()\n",
    "        except AttributeError:\n",
    "            #  maybe this sample has no assembly bias\n",
    "            assembias_value = 0.0\n",
    "\n",
    "        return self.param_dict['large_scale_bias_'+self.sample_name] + assembias_value"
   ]
  },
  {
   "cell_type": "code",
   "execution_count": 15,
   "metadata": {},
   "outputs": [],
   "source": [
    "assembias_blue = AssemblyBias('blue')\n",
    "blue_galaxies = Galaxies('blue', models=[assembias_blue])\n",
    "\n",
    "assembias_red = AssemblyBias('red')\n",
    "red_galaxies = Galaxies('red', models=[assembias_red])"
   ]
  },
  {
   "cell_type": "code",
   "execution_count": 16,
   "metadata": {},
   "outputs": [
    {
     "data": {
      "text/plain": [
       "{'assembly_bias_param0_red': 1.0,\n",
       " 'large_scale_bias_red': 1.5,\n",
       " 'nz_param0_red': 0.1,\n",
       " 'nz_param1_red': 0.2}"
      ]
     },
     "execution_count": 16,
     "metadata": {},
     "output_type": "execute_result"
    }
   ],
   "source": [
    "red_galaxies.param_dict"
   ]
  },
  {
   "cell_type": "code",
   "execution_count": 17,
   "metadata": {},
   "outputs": [
    {
     "name": "stdout",
     "output_type": "stream",
     "text": [
      "2.5\n",
      "5.0\n"
     ]
    }
   ],
   "source": [
    "print(blue_galaxies.large_scale_bias())\n",
    "blue_galaxies.param_dict['assembly_bias_param0_blue'] = 3.5\n",
    "print(blue_galaxies.large_scale_bias())\n"
   ]
  },
  {
   "cell_type": "code",
   "execution_count": null,
   "metadata": {},
   "outputs": [],
   "source": []
  },
  {
   "cell_type": "code",
   "execution_count": null,
   "metadata": {},
   "outputs": [],
   "source": []
  },
  {
   "cell_type": "code",
   "execution_count": 7,
   "metadata": {},
   "outputs": [],
   "source": [
    "class GalaxyGalaxyTheoryVector(object):\n",
    "    def __init__(self, galaxies1, galaxies2, **kwargs):\n",
    "        \n",
    "        try:\n",
    "            self.models = kwargs['models']\n",
    "        except KeyError:\n",
    "            self.models = []\n",
    "\n",
    "        self.param_dict = {}\n",
    "        append_composite_dictionary(self.param_dict, self.models)\n",
    "        append_composite_dictionary(self.param_dict, [galaxies1, galaxies2])\n",
    "        self.galaxies1 = galaxies1\n",
    "        self.galaxies2 = galaxies2\n",
    "        \n",
    "    def large_scale_bias(self):\n",
    "        update_component_dictionaries(self.param_dict, [self.galaxies1, self.galaxies2])\n",
    "        return np.sqrt(self.galaxies1.large_scale_bias()*self.galaxies2.large_scale_bias())"
   ]
  },
  {
   "cell_type": "code",
   "execution_count": 8,
   "metadata": {},
   "outputs": [],
   "source": [
    "gg = GalaxyGalaxyTheoryVector(blue_galaxies, red_galaxies)"
   ]
  },
  {
   "cell_type": "code",
   "execution_count": 9,
   "metadata": {},
   "outputs": [
    {
     "data": {
      "text/plain": [
       "{'assembly_bias_param0_blue': 3.5,\n",
       " 'assembly_bias_param0_red': 1.0,\n",
       " 'large_scale_bias_blue': 1.5,\n",
       " 'large_scale_bias_red': 1.5,\n",
       " 'nz_param0_blue': 0.1,\n",
       " 'nz_param0_red': 0.1,\n",
       " 'nz_param1_blue': 0.2,\n",
       " 'nz_param1_red': 0.2}"
      ]
     },
     "execution_count": 9,
     "metadata": {},
     "output_type": "execute_result"
    }
   ],
   "source": [
    "gg.param_dict"
   ]
  },
  {
   "cell_type": "code",
   "execution_count": 10,
   "metadata": {},
   "outputs": [
    {
     "data": {
      "text/plain": [
       "3.5355339059327378"
      ]
     },
     "execution_count": 10,
     "metadata": {},
     "output_type": "execute_result"
    }
   ],
   "source": [
    "gg.large_scale_bias()"
   ]
  },
  {
   "cell_type": "code",
   "execution_count": 11,
   "metadata": {},
   "outputs": [
    {
     "data": {
      "text/plain": [
       "4.6904157598234297"
      ]
     },
     "execution_count": 11,
     "metadata": {},
     "output_type": "execute_result"
    }
   ],
   "source": [
    "gg.param_dict['large_scale_bias_red'] = 3.4\n",
    "gg.large_scale_bias()"
   ]
  },
  {
   "cell_type": "code",
   "execution_count": 12,
   "metadata": {},
   "outputs": [
    {
     "data": {
      "text/plain": [
       "5.8309518948453007"
      ]
     },
     "execution_count": 12,
     "metadata": {},
     "output_type": "execute_result"
    }
   ],
   "source": [
    "gg.param_dict['assembly_bias_param0_red'] = 3.4\n",
    "gg.large_scale_bias()"
   ]
  },
  {
   "cell_type": "code",
   "execution_count": null,
   "metadata": {},
   "outputs": [],
   "source": []
  },
  {
   "cell_type": "code",
   "execution_count": null,
   "metadata": {},
   "outputs": [],
   "source": []
  },
  {
   "cell_type": "code",
   "execution_count": null,
   "metadata": {},
   "outputs": [],
   "source": []
  }
 ],
 "metadata": {
  "kernelspec": {
   "display_name": "Python [conda root]",
   "language": "python",
   "name": "conda-root-py"
  },
  "language_info": {
   "codemirror_mode": {
    "name": "ipython",
    "version": 2
   },
   "file_extension": ".py",
   "mimetype": "text/x-python",
   "name": "python",
   "nbconvert_exporter": "python",
   "pygments_lexer": "ipython2",
   "version": "2.7.14"
  }
 },
 "nbformat": 4,
 "nbformat_minor": 2
}
