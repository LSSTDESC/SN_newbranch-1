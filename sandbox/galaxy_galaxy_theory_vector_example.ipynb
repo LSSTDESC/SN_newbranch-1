{
 "cells": [
  {
   "cell_type": "code",
   "execution_count": 1,
   "metadata": {},
   "outputs": [],
   "source": [
    "def append_composite_dictionary(composite_dict, models):\n",
    "    for model in models:\n",
    "        composite_dict.update(model.param_dict)"
   ]
  },
  {
   "cell_type": "code",
   "execution_count": 2,
   "metadata": {},
   "outputs": [],
   "source": [
    "def update_component_dictionaries(composite_dict, models):\n",
    "    for model in models:\n",
    "        for key in model.param_dict.keys():\n",
    "            model.param_dict[key] = composite_dict[key]"
   ]
  },
  {
   "cell_type": "code",
   "execution_count": 3,
   "metadata": {},
   "outputs": [],
   "source": [
    "class AssemblyBias(object):\n",
    "    def __init__(self, sample_name):\n",
    "        self.param_dict = {}\n",
    "        self.sample_name = sample_name\n",
    "        self.modelname = 'assembly_bias_model_'+self.sample_name\n",
    "        self.param_dict['assembly_bias_param0_'+self.sample_name] = 1.\n",
    "\n",
    "    def assembly_bias_strength(self):\n",
    "        return self.param_dict['assembly_bias_param0_'+self.sample_name]"
   ]
  },
  {
   "cell_type": "code",
   "execution_count": 6,
   "metadata": {},
   "outputs": [],
   "source": [
    "from scipy.integrate import quad \n",
    "\n",
    "def tomographic_redshift_integral(func, zlow, zhigh):\n",
    "    return quad(func, zlow, zhigh)[0]\n",
    "\n",
    "class PhotozModel(object):\n",
    "    def __init__(self, *args, **kwargs):\n",
    "        self.param_dict = {}\n",
    "        \n",
    "    def prob_zphot_zspec(self, *args, **kwargs):\n",
    "        raise NotImplementedError()\n",
    "    \n",
    "    def tomographic_redshift_pdf(self, true_nz_function, z_tomo_low, z_tomo_high):\n",
    "        return tomographic_redshift_integral(true_nz_function, z_tomo_low, z_tomo_high)\n"
   ]
  },
  {
   "cell_type": "code",
   "execution_count": 4,
   "metadata": {},
   "outputs": [],
   "source": [
    "class ClusteringGalaxySample(object):\n",
    "    def __init__(self, sample_name, photoz_model, **kwargs):\n",
    "        \n",
    "        self.sample_name = sample_name\n",
    "        self.photoz_model = photoz_model\n",
    "        \n",
    "        self.param_dict = {}\n",
    "        self.param_dict.update(self.get_default_params(**kwargs))\n",
    "        self.param_dict.update(self.photoz_model.param_dict)\n",
    "\n",
    "    def get_default_params(self, **kwargs):\n",
    "        d = {}\n",
    "        d['nz_param0_'+self.sample_name] = 0.1\n",
    "        d['nz_param1_'+self.sample_name] = 0.2\n",
    "        d['large_scale_bias_'+self.sample_name] = 1.5\n",
    "        return d\n",
    "\n",
    "    def true_redshift_pdf(self, z):                \n",
    "        return self.param_dict['nz_param0'] + self.param_dict['nz_param0'] + z\n",
    "    \n",
    "    def tomographic_redshift_pdf(self, zspec, z_tomo_low, z_tomo_high):\n",
    "        update_component_dictionaries(self.param_dict, [self.photoz_model.param_dict])\n",
    "        \n",
    "        f = self.photoz_model.tomographic_redshift_pdf(self.true_redshift_pdf, z_tomo_low, z_tomo_high)\n",
    "        #  this is not correctly implemented\n",
    "        return f(z)\n",
    "    \n",
    "    def large_scale_bias(self):\n",
    "        update_component_dictionaries(self.param_dict, self.models)\n",
    "\n",
    "        return self.param_dict['large_scale_bias_'+self.sample_name] "
   ]
  },
  {
   "cell_type": "code",
   "execution_count": null,
   "metadata": {},
   "outputs": [],
   "source": []
  },
  {
   "cell_type": "code",
   "execution_count": 7,
   "metadata": {},
   "outputs": [],
   "source": [
    "class AssembiasedClusteringGalaxySample(ClusteringGalaxySample):\n",
    "    def __init__(self, sample_name, **kwargs):\n",
    "        ClusteringGalaxySample.__init__(self, *args, **kwargs)\n",
    "        \n",
    "        try:\n",
    "            self.assembias_model = kwargs['assembias_model']\n",
    "            append_composite_dictionary(self.param_dict, self.assembias_model.param_dict)\n",
    "        except KeyError:\n",
    "            msg = (\"You must pass a ``assembias_model`` keyword argument \"\n",
    "                   \"to instantiate the AssembiasedClusteringGalaxySample class\")\n",
    "            raise KeyError(msg)\n",
    "                \n",
    "    def large_scale_bias(self):\n",
    "        update_component_dictionaries(self.param_dict, self.models)\n",
    "        \n",
    "        assembias_value = self.assembias_model.assembly_bias_strength()\n",
    "\n",
    "        return self.param_dict['large_scale_bias_'+self.sample_name] + assembias_value"
   ]
  },
  {
   "cell_type": "code",
   "execution_count": 15,
   "metadata": {},
   "outputs": [],
   "source": [
    "assembias_blue = AssemblyBias('blue')\n",
    "blue_galaxies = Galaxies('blue', models=[assembias_blue])\n",
    "\n",
    "assembias_red = AssemblyBias('red')\n",
    "red_galaxies = Galaxies('red', models=[assembias_red])"
   ]
  },
  {
   "cell_type": "code",
   "execution_count": 16,
   "metadata": {},
   "outputs": [
    {
     "data": {
      "text/plain": [
       "{'assembly_bias_param0_red': 1.0,\n",
       " 'large_scale_bias_red': 1.5,\n",
       " 'nz_param0_red': 0.1,\n",
       " 'nz_param1_red': 0.2}"
      ]
     },
     "execution_count": 16,
     "metadata": {},
     "output_type": "execute_result"
    }
   ],
   "source": [
    "red_galaxies.param_dict"
   ]
  },
  {
   "cell_type": "code",
   "execution_count": 17,
   "metadata": {},
   "outputs": [
    {
     "name": "stdout",
     "output_type": "stream",
     "text": [
      "2.5\n",
      "5.0\n"
     ]
    }
   ],
   "source": [
    "print(blue_galaxies.large_scale_bias())\n",
    "blue_galaxies.param_dict['assembly_bias_param0_blue'] = 3.5\n",
    "print(blue_galaxies.large_scale_bias())\n"
   ]
  },
  {
   "cell_type": "code",
   "execution_count": null,
   "metadata": {},
   "outputs": [],
   "source": []
  },
  {
   "cell_type": "code",
   "execution_count": null,
   "metadata": {},
   "outputs": [],
   "source": []
  },
  {
   "cell_type": "code",
   "execution_count": 7,
   "metadata": {},
   "outputs": [],
   "source": [
    "class GalaxyGalaxyTheoryVector(object):\n",
    "    def __init__(self, galaxies1, galaxies2, **kwargs):\n",
    "        \n",
    "        try:\n",
    "            self.models = kwargs['models']\n",
    "        except KeyError:\n",
    "            self.models = []\n",
    "\n",
    "        self.param_dict = {}\n",
    "        append_composite_dictionary(self.param_dict, self.models)\n",
    "        append_composite_dictionary(self.param_dict, [galaxies1, galaxies2])\n",
    "        self.galaxies1 = galaxies1\n",
    "        self.galaxies2 = galaxies2\n",
    "        \n",
    "    def large_scale_bias(self):\n",
    "        update_component_dictionaries(self.param_dict, [self.galaxies1, self.galaxies2])\n",
    "        return np.sqrt(self.galaxies1.large_scale_bias()*self.galaxies2.large_scale_bias())"
   ]
  },
  {
   "cell_type": "code",
   "execution_count": 8,
   "metadata": {},
   "outputs": [],
   "source": [
    "gg = GalaxyGalaxyTheoryVector(blue_galaxies, red_galaxies)"
   ]
  },
  {
   "cell_type": "code",
   "execution_count": 9,
   "metadata": {},
   "outputs": [
    {
     "data": {
      "text/plain": [
       "{'assembly_bias_param0_blue': 3.5,\n",
       " 'assembly_bias_param0_red': 1.0,\n",
       " 'large_scale_bias_blue': 1.5,\n",
       " 'large_scale_bias_red': 1.5,\n",
       " 'nz_param0_blue': 0.1,\n",
       " 'nz_param0_red': 0.1,\n",
       " 'nz_param1_blue': 0.2,\n",
       " 'nz_param1_red': 0.2}"
      ]
     },
     "execution_count": 9,
     "metadata": {},
     "output_type": "execute_result"
    }
   ],
   "source": [
    "gg.param_dict"
   ]
  },
  {
   "cell_type": "code",
   "execution_count": 10,
   "metadata": {},
   "outputs": [
    {
     "data": {
      "text/plain": [
       "3.5355339059327378"
      ]
     },
     "execution_count": 10,
     "metadata": {},
     "output_type": "execute_result"
    }
   ],
   "source": [
    "gg.large_scale_bias()"
   ]
  },
  {
   "cell_type": "code",
   "execution_count": 11,
   "metadata": {},
   "outputs": [
    {
     "data": {
      "text/plain": [
       "4.6904157598234297"
      ]
     },
     "execution_count": 11,
     "metadata": {},
     "output_type": "execute_result"
    }
   ],
   "source": [
    "gg.param_dict['large_scale_bias_red'] = 3.4\n",
    "gg.large_scale_bias()"
   ]
  },
  {
   "cell_type": "code",
   "execution_count": 12,
   "metadata": {},
   "outputs": [
    {
     "data": {
      "text/plain": [
       "5.8309518948453007"
      ]
     },
     "execution_count": 12,
     "metadata": {},
     "output_type": "execute_result"
    }
   ],
   "source": [
    "gg.param_dict['assembly_bias_param0_red'] = 3.4\n",
    "gg.large_scale_bias()"
   ]
  },
  {
   "cell_type": "code",
   "execution_count": null,
   "metadata": {},
   "outputs": [],
   "source": []
  },
  {
   "cell_type": "code",
   "execution_count": null,
   "metadata": {},
   "outputs": [],
   "source": []
  },
  {
   "cell_type": "code",
   "execution_count": null,
   "metadata": {},
   "outputs": [],
   "source": []
  }
 ],
 "metadata": {
  "kernelspec": {
   "display_name": "Python [conda root]",
   "language": "python",
   "name": "conda-root-py"
  },
  "language_info": {
   "codemirror_mode": {
    "name": "ipython",
    "version": 2
   },
   "file_extension": ".py",
   "mimetype": "text/x-python",
   "name": "python",
   "nbconvert_exporter": "python",
   "pygments_lexer": "ipython2",
   "version": "2.7.14"
  }
 },
 "nbformat": 4,
 "nbformat_minor": 2
}
