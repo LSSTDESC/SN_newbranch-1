{
 "cells": [
  {
   "cell_type": "code",
   "execution_count": 3,
   "metadata": {},
   "outputs": [],
   "source": [
    "def update_component_dictionaries(composite_dict, models):\n",
    "    for model in models:\n",
    "        for key in model.param_dict.keys():\n",
    "            model.param_dict[key] = composite_dict[key]\n",
    "            \n",
    "def append_composite_dictionary(composite_dict, models):\n",
    "    for model in models:\n",
    "        composite_dict.update(model.param_dict)"
   ]
  },
  {
   "cell_type": "code",
   "execution_count": 6,
   "metadata": {},
   "outputs": [],
   "source": [
    "class ThreeByTwoPlusClusters(object):\n",
    "    \"\"\"\n",
    "    \"\"\"\n",
    "    def __init__(self, gg_theory_vector, ss_theory_vector, cluster_theory_vector, **kwargs):\n",
    "        self.check_component_vector_consistency(gg_theory_vector, ss_theory_vector, cluster_theory_vector)\n",
    "\n",
    "        self.param_dict = {}\n",
    "        append_composite_dictionary(self.param_dict, [gg_theory_vector, ss_theory_vector, cluster_theory_vector])\n",
    "        \n",
    "        self.gg_theory_vector = gg_theory_vector\n",
    "        self.ss_theory_vector = ss_theory_vector\n",
    "        self.cluster_theory_vector = cluster_theory_vector\n",
    "        \n",
    "    def number_counts(self, *args, **kwargs):\n",
    "        return self.cluster_theory_vector.number_counts(*args, **kwargs)\n",
    "\n",
    "    def large_scale_bias(self, *args, **kwargs):\n",
    "        return self.gg_theory_vector.large_scale_bias(*args, **kwargs)\n",
    "    \n",
    "    def C_ell_GG(self, *args, **kwargs):\n",
    "        return self.ss_theory_vector.C_ell_GG(*args, **kwargs)\n",
    "\n",
    "    def check_component_vector_consistency(self, *args, **kwargs):\n",
    "        raise NotImplementedError()"
   ]
  },
  {
   "cell_type": "code",
   "execution_count": null,
   "metadata": {},
   "outputs": [],
   "source": []
  }
 ],
 "metadata": {
  "kernelspec": {
   "display_name": "Python [conda root]",
   "language": "python",
   "name": "conda-root-py"
  },
  "language_info": {
   "codemirror_mode": {
    "name": "ipython",
    "version": 2
   },
   "file_extension": ".py",
   "mimetype": "text/x-python",
   "name": "python",
   "nbconvert_exporter": "python",
   "pygments_lexer": "ipython2",
   "version": "2.7.14"
  }
 },
 "nbformat": 4,
 "nbformat_minor": 2
}
