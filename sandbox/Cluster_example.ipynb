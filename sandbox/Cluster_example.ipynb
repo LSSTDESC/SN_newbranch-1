{
 "cells": [
  {
   "cell_type": "code",
   "execution_count": 1,
   "metadata": {},
   "outputs": [],
   "source": [
    "#copied from Andrew's example\n",
    "class DataVector(object):\n",
    "    def __init__(self, *models):\n",
    "        self.models = []\n",
    "        for model in models:\n",
    "            if hasattr(model, 'name'):\n",
    "                self.models.append(model.name)\n",
    "\n",
    "        self.systematics_model_list = []\n",
    "        try:\n",
    "            for systematics_model in kwargs['systematics_models']:\n",
    "                self.systematics_model_list.append(systematics_model.model_name)\n",
    "        except KeyError:\n",
    "            pass\n",
    "\n",
    "        for model in self.models:\n",
    "            try:\n",
    "                for systematics_model in model.systematics_models:\n",
    "                    self.systematics_model_list.append(systematics_model.model_name)\n",
    "            except AttributeError:\n",
    "                pass\n",
    "\n",
    "# new code starts here            \n",
    "class MobsModelA(object):\n",
    "    def __init__(self, mobs_a,mobs_b,mobs_c):\n",
    "        self.param_dict = {}\n",
    "        self.param_dict['a'] = mobs_a\n",
    "        self.param_dict['b'] = mobs_b\n",
    "        self.param_dict['c'] = mobs_c\n",
    "        self.modelname = 'mobs_modela'\n",
    "        \n",
    "    def Mobs_M(self, m_true,redshift,*args):\n",
    "        return m_true*self.param_dict['a']*self.param_dict['b']*self.param_dict['c']+redshift\n",
    "\n",
    "\n",
    "class ClusterSample(object):\n",
    "    def __init__(self, *args, **kwargs):\n",
    "        self.redshift_distribution = kwargs['redshift_distribution']\n",
    "        self.sample_name = kwargs['sample_name']\n",
    "        # mobs_model is required, other systematics may be optional\n",
    "        self.mobs_model = kwargs['mobs_model']\n",
    "        \n",
    "        self.systematics_model_list = []\n",
    "        try:\n",
    "            for systematics_model in kwargs['systematics_models']:\n",
    "                self.systematics_model_list.append(systematics_model.model_name)\n",
    "        except KeyError:\n",
    "            pass\n",
    "\n",
    "class ClusterCountsTheoryVector(DataVector):\n",
    "    def __init__(self, clustersample_name,*args, **kwargs):\n",
    "        ClusterSample.__init__(self, **kwargs)\n",
    "    #leave out ClusterCountsTheoryVector specific systematics for now\n",
    "    def number_counts(self, lambda_bin, z_bin, *args, **kwargs):\n",
    "        for key in self.mobs_model.param_dict.keys():\n",
    "            self.mobs_model.param_dict[key] = self.param_dict[key]\n",
    "        #in general, need to do some integrals over Mobs(M) here...\n",
    "        return self.mobs_model.Mobs_M(lamda_bin,z_bin,*args, **kwargs)"
   ]
  },
  {
   "cell_type": "code",
   "execution_count": 2,
   "metadata": {},
   "outputs": [
    {
     "data": {
      "text/plain": [
       "18.1"
      ]
     },
     "execution_count": 2,
     "metadata": {},
     "output_type": "execute_result"
    }
   ],
   "source": [
    "a =MobsModelA(1,2,3)\n",
    "a.Mobs_M(3,0.1)"
   ]
  },
  {
   "cell_type": "code",
   "execution_count": 7,
   "metadata": {},
   "outputs": [
    {
     "ename": "AttributeError",
     "evalue": "'ClusterSample' object has no attribute 'param_dict'",
     "output_type": "error",
     "traceback": [
      "\u001b[0;31m---------------------------------------------------------------------------\u001b[0m",
      "\u001b[0;31mAttributeError\u001b[0m                            Traceback (most recent call last)",
      "\u001b[0;32m<ipython-input-7-596b806d438b>\u001b[0m in \u001b[0;36m<module>\u001b[0;34m()\u001b[0m\n\u001b[1;32m      1\u001b[0m \u001b[0mLSSTclusters\u001b[0m \u001b[0;34m=\u001b[0m \u001b[0mClusterSample\u001b[0m\u001b[0;34m(\u001b[0m\u001b[0mredshift_distribution\u001b[0m\u001b[0;34m=\u001b[0m\u001b[0;34m\"LSST\"\u001b[0m\u001b[0;34m,\u001b[0m\u001b[0msample_name\u001b[0m\u001b[0;34m=\u001b[0m\u001b[0;34m\"SRD\"\u001b[0m\u001b[0;34m,\u001b[0m\u001b[0mmobs_model\u001b[0m\u001b[0;34m=\u001b[0m\u001b[0;34m\"MobsModelA\"\u001b[0m\u001b[0;34m)\u001b[0m\u001b[0;34m\u001b[0m\u001b[0m\n\u001b[0;32m----> 2\u001b[0;31m \u001b[0mLSSTclusters\u001b[0m\u001b[0;34m.\u001b[0m\u001b[0mparam_dict\u001b[0m\u001b[0;34m.\u001b[0m\u001b[0mkeys\u001b[0m\u001b[0;34m\u001b[0m\u001b[0m\n\u001b[0m",
      "\u001b[0;31mAttributeError\u001b[0m: 'ClusterSample' object has no attribute 'param_dict'"
     ]
    }
   ],
   "source": [
    "LSSTclusters = ClusterSample(redshift_distribution=\"LSST\",sample_name=\"SRD\",mobs_model=\"MobsModelA\")\n",
    "LSSTclusters.param_dict.keys"
   ]
  },
  {
   "cell_type": "code",
   "execution_count": null,
   "metadata": {},
   "outputs": [],
   "source": []
  }
 ],
 "metadata": {
  "kernelspec": {
   "display_name": "Python 2",
   "language": "python",
   "name": "python2"
  },
  "language_info": {
   "codemirror_mode": {
    "name": "ipython",
    "version": 2
   },
   "file_extension": ".py",
   "mimetype": "text/x-python",
   "name": "python",
   "nbconvert_exporter": "python",
   "pygments_lexer": "ipython2",
   "version": "2.7.13"
  }
 },
 "nbformat": 4,
 "nbformat_minor": 2
}
