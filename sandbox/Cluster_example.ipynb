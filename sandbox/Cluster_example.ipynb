{
 "cells": [
  {
   "cell_type": "code",
   "execution_count": 74,
   "metadata": {},
   "outputs": [],
   "source": [
    "import numpy as np\n",
    "#copied from Andrew's example\n",
    "def append_composite_dictionary(composite_dict, models):\n",
    "    for model in models:\n",
    "        print model\n",
    "        composite_dict.update(model.param_dict)\n",
    "def update_component_dictionaries(composite_dict, models):\n",
    "    for model in models:\n",
    "        for key in model.param_dict.keys():\n",
    "            model.param_dict[key] = composite_dict[key]\n",
    "            \n",
    "class DataVector(object):\n",
    "    def __init__(self, *models):\n",
    "        self.models = []\n",
    "        for model in models:\n",
    "            if hasattr(model, 'name'):\n",
    "                self.models.append(model.name)\n",
    "\n",
    "        self.systematics_model_list = []\n",
    "        try:\n",
    "            for systematics_model in kwargs['systematics_models']:\n",
    "                self.systematics_model_list.append(systematics_model.model_name)\n",
    "        except KeyError:\n",
    "            pass\n",
    "\n",
    "        for model in self.models:\n",
    "            try:\n",
    "                for systematics_model in model.systematics_models:\n",
    "                    self.systematics_model_list.append(systematics_model.model_name)\n",
    "            except AttributeError:\n",
    "                pass\n",
    "\n"
   ]
  },
  {
   "cell_type": "code",
   "execution_count": 95,
   "metadata": {},
   "outputs": [],
   "source": [
    "# new code starts here            \n",
    "class ClusterMobsModelA(object):\n",
    "    def __init__(self, mobs_param0,mobs_param1,mobs_param2):\n",
    "        self.param_dict = {}\n",
    "        self.param_dict['mobs_param0'] = mobs_param0\n",
    "        self.param_dict['mobs_param1'] = mobs_param1\n",
    "        self.param_dict['mobs_param2'] = mobs_param2\n",
    "        self.modelname = 'mobs_modela'\n",
    "        \n",
    "    def ClusterMobs_M(self, m_true,redshift,*args):\n",
    "        return m_true*self.param_dict['mobs_param0']*self.param_dict['mobs_param1']*self.param_dict['mobs_param2']+redshift\n",
    "\n",
    "\n",
    "class ClusterSample(object):\n",
    "    def __init__(self, *args, **kwargs):\n",
    "        self.param_dict = {}\n",
    "        self.redshift_distribution = kwargs['redshift_distribution']\n",
    "        self.sample_name = kwargs['sample_name']\n",
    "        # mobs_model is required, other systematics may be optional\n",
    "        self.mobs_model = kwargs['mobs_model']\n",
    "        self.model_list = []\n",
    "        self.model_list.append(self.mobs_model)\n",
    "        \n",
    "        self.systematics_model_list = []\n",
    "        try:\n",
    "            for systematics_model in kwargs['systematics_models']:\n",
    "                self.systematics_model_list.append(systematics_model)\n",
    "        except KeyError:\n",
    "            pass\n",
    "        self.model_list.extend(self.systematics_model_list)\n",
    "        append_composite_dictionary(self.param_dict, self.model_list)\n",
    "\n",
    "class ClusterCountsTheoryVector(DataVector):\n",
    "    def __init__(self, cluster_sample,*args, **kwargs):\n",
    "        self.cluster_sample = cluster_sample\n",
    "        try:\n",
    "            self.models = kwargs['models']\n",
    "        except KeyError:\n",
    "            self.models = []\n",
    "\n",
    "        self.param_dict = {}\n",
    "        append_composite_dictionary(self.param_dict, self.models)\n",
    "        append_composite_dictionary(self.param_dict, [cluster_sample])\n",
    "        \n",
    "    #leave out ClusterCountsTheoryVector specific systematics for now\n",
    "    def number_counts(self, lambda_bin, z_bin, *args, **kwargs):\n",
    "        for key in self.cluster_sample.mobs_model.param_dict.keys():\n",
    "            self.cluster_sample.mobs_model.param_dict[key] = self.param_dict[key]\n",
    "        #in general, need to do some integrals over Mobs(M) here...\n",
    "        return self.cluster_sample.mobs_model.ClusterMobs_M(lambda_bin,z_bin,*args, **kwargs)"
   ]
  },
  {
   "cell_type": "code",
   "execution_count": 96,
   "metadata": {},
   "outputs": [
    {
     "data": {
      "text/plain": [
       "{'mobs_param0': 1, 'mobs_param1': 2, 'mobs_param2': 3}"
      ]
     },
     "execution_count": 96,
     "metadata": {},
     "output_type": "execute_result"
    }
   ],
   "source": [
    "mobs_model =ClusterMobsModelA(1,2,3)\n",
    "mobs_model.param_dict"
   ]
  },
  {
   "cell_type": "code",
   "execution_count": 97,
   "metadata": {},
   "outputs": [
    {
     "name": "stdout",
     "output_type": "stream",
     "text": [
      "<__main__.ClusterMobsModelA object at 0x1107a8850>\n"
     ]
    },
    {
     "data": {
      "text/plain": [
       "{'mobs_param0': 1, 'mobs_param1': 2, 'mobs_param2': 3}"
      ]
     },
     "execution_count": 97,
     "metadata": {},
     "output_type": "execute_result"
    }
   ],
   "source": [
    "LSSTclusters = ClusterSample(redshift_distribution=\"LSST\",sample_name=\"SRD\",mobs_model=mobs_model)\n",
    "LSSTclusters.param_dict\n"
   ]
  },
  {
   "cell_type": "code",
   "execution_count": 98,
   "metadata": {},
   "outputs": [
    {
     "name": "stdout",
     "output_type": "stream",
     "text": [
      "<__main__.ClusterSample object at 0x1107a84d0>\n"
     ]
    },
    {
     "data": {
      "text/plain": [
       "array([61, 67, 73])"
      ]
     },
     "execution_count": 98,
     "metadata": {},
     "output_type": "execute_result"
    }
   ],
   "source": [
    "clustervector = ClusterCountsTheoryVector(LSSTclusters)\n",
    "#clustervector.param_dict\n",
    "clustervector.number_counts(np.array([10,11,12]),1)"
   ]
  },
  {
   "cell_type": "code",
   "execution_count": null,
   "metadata": {},
   "outputs": [],
   "source": []
  }
 ],
 "metadata": {
  "kernelspec": {
   "display_name": "Python 2",
   "language": "python",
   "name": "python2"
  },
  "language_info": {
   "codemirror_mode": {
    "name": "ipython",
    "version": 2
   },
   "file_extension": ".py",
   "mimetype": "text/x-python",
   "name": "python",
   "nbconvert_exporter": "python",
   "pygments_lexer": "ipython2",
   "version": "2.7.13"
  }
 },
 "nbformat": 4,
 "nbformat_minor": 2
}
