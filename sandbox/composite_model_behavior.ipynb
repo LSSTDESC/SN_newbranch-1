{
 "cells": [
  {
   "cell_type": "markdown",
   "metadata": {},
   "source": [
    "# Example of how to propagate parameters between component and composite models"
   ]
  },
  {
   "cell_type": "code",
   "execution_count": 1,
   "metadata": {},
   "outputs": [],
   "source": [
    "class SubSubModelA(object):\n",
    "    def __init__(self, a):\n",
    "        self.param_dict = {}\n",
    "        self.param_dict['a'] = a\n",
    "        self.modelname = 'modela'\n",
    "        \n",
    "    def my_important_behavior(self, *args):\n",
    "        return self.param_dict['a']"
   ]
  },
  {
   "cell_type": "code",
   "execution_count": 2,
   "metadata": {},
   "outputs": [],
   "source": [
    "class SubSubModelB(object):\n",
    "    def __init__(self, b):\n",
    "        self.param_dict = {}\n",
    "        self.param_dict['b'] = b\n",
    "        self.modelname = 'modelb'\n",
    "\n",
    "    def another_important_behavior(self, *args):\n",
    "        return self.param_dict['b']\n"
   ]
  },
  {
   "cell_type": "code",
   "execution_count": 3,
   "metadata": {},
   "outputs": [],
   "source": [
    "class SubModel(object):\n",
    "    def __init__(self, *models):\n",
    "        self.param_dict = {}\n",
    "        for model in models:\n",
    "            self.param_dict.update(model.param_dict)\n",
    "            setattr(self, model.modelname, model)\n",
    "        \n",
    "        self.param_dict['c'] = 999\n",
    "        \n",
    "    def composite_model_behavior(self, *args, **kwargs):\n",
    "        for key in self.modela.param_dict.keys():\n",
    "            self.modela.param_dict[key] = self.param_dict[key]\n",
    "        x = self.modela.my_important_behavior(*args, **kwargs)\n",
    "        \n",
    "        for key in self.modelb.param_dict.keys():\n",
    "            self.modelb.param_dict[key] = self.param_dict[key]\n",
    "        y = self.modelb.another_important_behavior(*args, **kwargs)\n",
    "        \n",
    "        return x * y + self.param_dict['c']*args[0]"
   ]
  },
  {
   "cell_type": "code",
   "execution_count": 4,
   "metadata": {},
   "outputs": [],
   "source": [
    "a = SubSubModelA(8)\n",
    "b = SubSubModelB(1)"
   ]
  },
  {
   "cell_type": "code",
   "execution_count": 5,
   "metadata": {},
   "outputs": [
    {
     "data": {
      "text/plain": [
       "'modela'"
      ]
     },
     "execution_count": 5,
     "metadata": {},
     "output_type": "execute_result"
    }
   ],
   "source": [
    "a.modelname"
   ]
  },
  {
   "cell_type": "code",
   "execution_count": 6,
   "metadata": {},
   "outputs": [],
   "source": [
    "c = SubModel(a, b)"
   ]
  },
  {
   "cell_type": "code",
   "execution_count": 7,
   "metadata": {},
   "outputs": [
    {
     "data": {
      "text/plain": [
       "{'a': 8, 'b': 1, 'c': 999}"
      ]
     },
     "execution_count": 7,
     "metadata": {},
     "output_type": "execute_result"
    }
   ],
   "source": [
    "c.param_dict"
   ]
  },
  {
   "cell_type": "code",
   "execution_count": 8,
   "metadata": {},
   "outputs": [
    {
     "data": {
      "text/plain": [
       "8999"
      ]
     },
     "execution_count": 8,
     "metadata": {},
     "output_type": "execute_result"
    }
   ],
   "source": [
    "c.composite_model_behavior(9)"
   ]
  },
  {
   "cell_type": "code",
   "execution_count": 9,
   "metadata": {},
   "outputs": [
    {
     "data": {
      "text/plain": [
       "80"
      ]
     },
     "execution_count": 9,
     "metadata": {},
     "output_type": "execute_result"
    }
   ],
   "source": [
    "c.param_dict['c'] = 8\n",
    "c.composite_model_behavior(9)"
   ]
  },
  {
   "cell_type": "code",
   "execution_count": 10,
   "metadata": {},
   "outputs": [
    {
     "data": {
      "text/plain": [
       "90"
      ]
     },
     "execution_count": 10,
     "metadata": {},
     "output_type": "execute_result"
    }
   ],
   "source": [
    "c.param_dict['a'] = 18\n",
    "c.composite_model_behavior(9)"
   ]
  },
  {
   "cell_type": "code",
   "execution_count": null,
   "metadata": {},
   "outputs": [],
   "source": []
  }
 ],
 "metadata": {
  "kernelspec": {
   "display_name": "Python 2",
   "language": "python",
   "name": "python2"
  },
  "language_info": {
   "codemirror_mode": {
    "name": "ipython",
    "version": 2
   },
   "file_extension": ".py",
   "mimetype": "text/x-python",
   "name": "python",
   "nbconvert_exporter": "python",
   "pygments_lexer": "ipython2",
   "version": "2.7.13"
  }
 },
 "nbformat": 4,
 "nbformat_minor": 2
}
